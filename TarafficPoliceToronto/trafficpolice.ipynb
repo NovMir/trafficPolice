{
 "cells": [
  {
   "cell_type": "code",
   "execution_count": 1,
   "id": "0d499af4-1616-4bcd-878f-3acdf104be02",
   "metadata": {},
   "outputs": [],
   "source": [
    "import numpy as np\n",
    "import pandas as pd"
   ]
  },
  {
   "cell_type": "code",
   "execution_count": 6,
   "id": "71549a62-1043-4b1b-bd8f-53f82e9d7d46",
   "metadata": {},
   "outputs": [
    {
     "name": "stdout",
     "output_type": "stream",
     "text": [
      "           OBJECTID      OCC_YEAR       OCC_DAY       OCC_DOY      OCC_HOUR  \\\n",
      "count  37178.000000  37178.000000  37178.000000  37178.000000  37178.000000   \n",
      "mean   18589.500000   2018.718436     15.645382    199.930766     13.292619   \n",
      "std    10732.508491      2.987905      8.637666     77.454583      6.526714   \n",
      "min        1.000000   1975.000000      1.000000      1.000000      0.000000   \n",
      "25%     9295.250000   2016.000000      8.000000    149.000000      9.000000   \n",
      "50%    18589.500000   2019.000000     16.000000    203.000000     14.000000   \n",
      "75%    27883.750000   2021.000000     23.000000    257.000000     18.000000   \n",
      "max    37178.000000   2024.000000     31.000000    366.000000     23.000000   \n",
      "\n",
      "        REPORT_YEAR    REPORT_DAY    REPORT_DOY   REPORT_HOUR    BIKE_SPEED  \\\n",
      "count  37178.000000  37178.000000  37178.000000  37178.000000  36043.000000   \n",
      "mean    2018.740680     15.979881    201.005702     14.263946     14.102711   \n",
      "std        2.968978      8.600372     77.696535      5.086319     10.714546   \n",
      "min     2014.000000      1.000000      1.000000      0.000000      0.000000   \n",
      "25%     2016.000000      9.000000    151.000000     11.000000      6.000000   \n",
      "50%     2019.000000     16.000000    205.000000     14.000000     15.000000   \n",
      "75%     2021.000000     23.000000    258.000000     18.000000     21.000000   \n",
      "max     2024.000000     31.000000    366.000000     23.000000     99.000000   \n",
      "\n",
      "           BIKE_COST    LONG_WGS84     LAT_WGS84             x             y  \n",
      "count   34688.000000  37178.000000  37178.000000  3.717800e+04  3.717800e+04  \n",
      "mean     1000.067885    -78.687703     43.285726 -8.759475e+06  5.367007e+06  \n",
      "std      1595.093249      7.458295      4.102826  8.302536e+05  5.087229e+05  \n",
      "min         0.000000    -79.622226      0.000000 -8.863506e+06  5.664924e-09  \n",
      "25%       399.000000    -79.418687     43.650276 -8.840848e+06  5.411480e+06  \n",
      "50%       679.989990    -79.390666     43.662203 -8.837728e+06  5.413315e+06  \n",
      "75%      1172.539978    -79.372806     43.683563 -8.835740e+06  5.416603e+06  \n",
      "max    120000.000000      0.000000     43.837237  6.327780e-09  5.440289e+06  \n"
     ]
    }
   ],
   "source": [
    "df = pd.read_csv('Bicycle_Thefts_Open_Data_3945305316907060423.csv')\n",
    "\n",
    "# Quick summary of the dataset\n",
    "print(df.describe())\n"
   ]
  },
  {
   "cell_type": "code",
   "execution_count": null,
   "id": "ae2cbde1-5964-446b-837c-aa6827aa5309",
   "metadata": {},
   "outputs": [],
   "source": []
  }
 ],
 "metadata": {
  "kernelspec": {
   "display_name": "Python 3 (ipykernel)",
   "language": "python",
   "name": "python3"
  },
  "language_info": {
   "codemirror_mode": {
    "name": "ipython",
    "version": 3
   },
   "file_extension": ".py",
   "mimetype": "text/x-python",
   "name": "python",
   "nbconvert_exporter": "python",
   "pygments_lexer": "ipython3",
   "version": "3.12.4"
  }
 },
 "nbformat": 4,
 "nbformat_minor": 5
}
